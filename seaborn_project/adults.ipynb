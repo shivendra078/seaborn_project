{
 "cells": [
  {
   "cell_type": "code",
   "execution_count": 1,
   "id": "804c7ef1-154c-425a-bab7-212a39557757",
   "metadata": {},
   "outputs": [],
   "source": [
    "import pandas as pd\n",
    "import matplotlib.pyplot as plt\n",
    "import seaborn as sns "
   ]
  },
  {
   "cell_type": "code",
   "execution_count": 8,
   "id": "d42d3d97-d382-4e37-945a-8cd6a3e9bb23",
   "metadata": {
    "scrolled": true
   },
   "outputs": [
    {
     "data": {
      "text/html": [
       "<div>\n",
       "<style scoped>\n",
       "    .dataframe tbody tr th:only-of-type {\n",
       "        vertical-align: middle;\n",
       "    }\n",
       "\n",
       "    .dataframe tbody tr th {\n",
       "        vertical-align: top;\n",
       "    }\n",
       "\n",
       "    .dataframe thead th {\n",
       "        text-align: right;\n",
       "    }\n",
       "</style>\n",
       "<table border=\"1\" class=\"dataframe\">\n",
       "  <thead>\n",
       "    <tr style=\"text-align: right;\">\n",
       "      <th></th>\n",
       "      <th>age</th>\n",
       "      <th>workclass</th>\n",
       "      <th>fnlwgt</th>\n",
       "      <th>education</th>\n",
       "      <th>education-num</th>\n",
       "      <th>marital-status</th>\n",
       "      <th>occupation</th>\n",
       "      <th>relationship</th>\n",
       "      <th>race</th>\n",
       "      <th>sex</th>\n",
       "      <th>capital-gain</th>\n",
       "      <th>capital-loss</th>\n",
       "      <th>hours-per-week</th>\n",
       "      <th>native-country</th>\n",
       "      <th>salary</th>\n",
       "    </tr>\n",
       "  </thead>\n",
       "  <tbody>\n",
       "    <tr>\n",
       "      <th>0</th>\n",
       "      <td>39</td>\n",
       "      <td>State-gov</td>\n",
       "      <td>77516</td>\n",
       "      <td>Bachelors</td>\n",
       "      <td>13</td>\n",
       "      <td>Never-married</td>\n",
       "      <td>Adm-clerical</td>\n",
       "      <td>Not-in-family</td>\n",
       "      <td>White</td>\n",
       "      <td>Male</td>\n",
       "      <td>2174</td>\n",
       "      <td>0</td>\n",
       "      <td>40</td>\n",
       "      <td>United-States</td>\n",
       "      <td>&lt;=50K</td>\n",
       "    </tr>\n",
       "    <tr>\n",
       "      <th>1</th>\n",
       "      <td>50</td>\n",
       "      <td>Self-emp-not-inc</td>\n",
       "      <td>83311</td>\n",
       "      <td>Bachelors</td>\n",
       "      <td>13</td>\n",
       "      <td>Married-civ-spouse</td>\n",
       "      <td>Exec-managerial</td>\n",
       "      <td>Husband</td>\n",
       "      <td>White</td>\n",
       "      <td>Male</td>\n",
       "      <td>0</td>\n",
       "      <td>0</td>\n",
       "      <td>13</td>\n",
       "      <td>United-States</td>\n",
       "      <td>&lt;=50K</td>\n",
       "    </tr>\n",
       "    <tr>\n",
       "      <th>2</th>\n",
       "      <td>38</td>\n",
       "      <td>Private</td>\n",
       "      <td>215646</td>\n",
       "      <td>HS-grad</td>\n",
       "      <td>9</td>\n",
       "      <td>Divorced</td>\n",
       "      <td>Handlers-cleaners</td>\n",
       "      <td>Not-in-family</td>\n",
       "      <td>White</td>\n",
       "      <td>Male</td>\n",
       "      <td>0</td>\n",
       "      <td>0</td>\n",
       "      <td>40</td>\n",
       "      <td>United-States</td>\n",
       "      <td>&lt;=50K</td>\n",
       "    </tr>\n",
       "    <tr>\n",
       "      <th>3</th>\n",
       "      <td>53</td>\n",
       "      <td>Private</td>\n",
       "      <td>234721</td>\n",
       "      <td>11th</td>\n",
       "      <td>7</td>\n",
       "      <td>Married-civ-spouse</td>\n",
       "      <td>Handlers-cleaners</td>\n",
       "      <td>Husband</td>\n",
       "      <td>Black</td>\n",
       "      <td>Male</td>\n",
       "      <td>0</td>\n",
       "      <td>0</td>\n",
       "      <td>40</td>\n",
       "      <td>United-States</td>\n",
       "      <td>&lt;=50K</td>\n",
       "    </tr>\n",
       "    <tr>\n",
       "      <th>4</th>\n",
       "      <td>28</td>\n",
       "      <td>Private</td>\n",
       "      <td>338409</td>\n",
       "      <td>Bachelors</td>\n",
       "      <td>13</td>\n",
       "      <td>Married-civ-spouse</td>\n",
       "      <td>Prof-specialty</td>\n",
       "      <td>Wife</td>\n",
       "      <td>Black</td>\n",
       "      <td>Female</td>\n",
       "      <td>0</td>\n",
       "      <td>0</td>\n",
       "      <td>40</td>\n",
       "      <td>Cuba</td>\n",
       "      <td>&lt;=50K</td>\n",
       "    </tr>\n",
       "  </tbody>\n",
       "</table>\n",
       "</div>"
      ],
      "text/plain": [
       "   age         workclass  fnlwgt  education  education-num  \\\n",
       "0   39         State-gov   77516  Bachelors             13   \n",
       "1   50  Self-emp-not-inc   83311  Bachelors             13   \n",
       "2   38           Private  215646    HS-grad              9   \n",
       "3   53           Private  234721       11th              7   \n",
       "4   28           Private  338409  Bachelors             13   \n",
       "\n",
       "       marital-status         occupation   relationship   race     sex  \\\n",
       "0       Never-married       Adm-clerical  Not-in-family  White    Male   \n",
       "1  Married-civ-spouse    Exec-managerial        Husband  White    Male   \n",
       "2            Divorced  Handlers-cleaners  Not-in-family  White    Male   \n",
       "3  Married-civ-spouse  Handlers-cleaners        Husband  Black    Male   \n",
       "4  Married-civ-spouse     Prof-specialty           Wife  Black  Female   \n",
       "\n",
       "   capital-gain  capital-loss  hours-per-week native-country salary  \n",
       "0          2174             0              40  United-States  <=50K  \n",
       "1             0             0              13  United-States  <=50K  \n",
       "2             0             0              40  United-States  <=50K  \n",
       "3             0             0              40  United-States  <=50K  \n",
       "4             0             0              40           Cuba  <=50K  "
      ]
     },
     "execution_count": 8,
     "metadata": {},
     "output_type": "execute_result"
    }
   ],
   "source": [
    "file_path=r\"C:\\csv data science\\adult.data.csv\"\n",
    "df=pd.read_csv(file_path)\n",
    "df.head()\n",
    "\n"
   ]
  },
  {
   "cell_type": "code",
   "execution_count": 10,
   "id": "8f96107b-70db-4acc-a33a-f126c57e9132",
   "metadata": {},
   "outputs": [
    {
     "name": "stdout",
     "output_type": "stream",
     "text": [
      "['Male' 'Female']\n"
     ]
    }
   ],
   "source": [
    " #How many men and women (sex feature) are represented in this dataset?\n",
    "# Check the unique values in the 'sex' column to ensure correct labeling\n",
    "print(df['sex'].unique())\n",
    "\n"
   ]
  },
  {
   "cell_type": "code",
   "execution_count": 11,
   "id": "87ae2dcd-2e38-4177-b6b4-e8ecc830b768",
   "metadata": {},
   "outputs": [
    {
     "name": "stdout",
     "output_type": "stream",
     "text": [
      "sex\n",
      "Male      21790\n",
      "Female    10771\n",
      "Name: count, dtype: int64\n"
     ]
    }
   ],
   "source": [
    "sex_counts = df['sex'].value_counts()\n",
    "print(sex_counts)\n"
   ]
  },
  {
   "cell_type": "code",
   "execution_count": 12,
   "id": "2c4cda7f-4a64-4182-a396-d508d82c94fa",
   "metadata": {},
   "outputs": [
    {
     "name": "stdout",
     "output_type": "stream",
     "text": [
      "Average age of women: 36.86 years\n"
     ]
    }
   ],
   "source": [
    "#What is the average age (age feature) of women?\n",
    "average_age_women = df[df['sex'] == 'Female']['age'].mean()\n",
    "print(f\"Average age of women: {average_age_women:.2f} years\")\n"
   ]
  },
  {
   "cell_type": "code",
   "execution_count": 13,
   "id": "bda40d5c-1799-4cc8-8b85-ef7118084a4d",
   "metadata": {},
   "outputs": [
    {
     "name": "stdout",
     "output_type": "stream",
     "text": [
      "Percentage of German citizens: 0.42%\n"
     ]
    }
   ],
   "source": [
    "#What is the percentage of German citizens (native-country feature)?\n",
    "# Total number of entries\n",
    "total_count = len(df)\n",
    "\n",
    "# Number of entries where native-country is Germany\n",
    "germany_count = len(df[df['native-country'] == 'Germany'])\n",
    "\n",
    "# Calculate percentage\n",
    "germany_percentage = (germany_count / total_count) * 100\n",
    "\n",
    "print(f\"Percentage of German citizens: {germany_percentage:.2f}%\")\n"
   ]
  },
  {
   "cell_type": "code",
   "execution_count": 15,
   "id": "433b0cff-9f01-432c-bb05-ac77bdd253d8",
   "metadata": {},
   "outputs": [
    {
     "name": "stdout",
     "output_type": "stream",
     "text": [
      "       age         workclass  fnlwgt     education  education-num  \\\n",
      "7       52  Self-emp-not-inc  209642       HS-grad              9   \n",
      "8       31           Private   45781       Masters             14   \n",
      "9       42           Private  159449     Bachelors             13   \n",
      "10      37           Private  280464  Some-college             10   \n",
      "11      30         State-gov  141297     Bachelors             13   \n",
      "...    ...               ...     ...           ...            ...   \n",
      "32539   71                 ?  287372     Doctorate             16   \n",
      "32545   39         Local-gov  111499    Assoc-acdm             12   \n",
      "32554   53           Private  321865       Masters             14   \n",
      "32557   40           Private  154374       HS-grad              9   \n",
      "32560   52      Self-emp-inc  287927       HS-grad              9   \n",
      "\n",
      "           marital-status         occupation   relationship  \\\n",
      "7      Married-civ-spouse    Exec-managerial        Husband   \n",
      "8           Never-married     Prof-specialty  Not-in-family   \n",
      "9      Married-civ-spouse    Exec-managerial        Husband   \n",
      "10     Married-civ-spouse    Exec-managerial        Husband   \n",
      "11     Married-civ-spouse     Prof-specialty        Husband   \n",
      "...                   ...                ...            ...   \n",
      "32539  Married-civ-spouse                  ?        Husband   \n",
      "32545  Married-civ-spouse       Adm-clerical           Wife   \n",
      "32554  Married-civ-spouse    Exec-managerial        Husband   \n",
      "32557  Married-civ-spouse  Machine-op-inspct        Husband   \n",
      "32560  Married-civ-spouse    Exec-managerial           Wife   \n",
      "\n",
      "                     race     sex  capital-gain  capital-loss  hours-per-week  \\\n",
      "7                   White    Male             0             0              45   \n",
      "8                   White  Female         14084             0              50   \n",
      "9                   White    Male          5178             0              40   \n",
      "10                  Black    Male             0             0              80   \n",
      "11     Asian-Pac-Islander    Male             0             0              40   \n",
      "...                   ...     ...           ...           ...             ...   \n",
      "32539               White    Male             0             0              10   \n",
      "32545               White  Female             0             0              20   \n",
      "32554               White    Male             0             0              40   \n",
      "32557               White    Male             0             0              40   \n",
      "32560               White  Female         15024             0              40   \n",
      "\n",
      "      native-country salary  \n",
      "7      United-States   >50K  \n",
      "8      United-States   >50K  \n",
      "9      United-States   >50K  \n",
      "10     United-States   >50K  \n",
      "11             India   >50K  \n",
      "...              ...    ...  \n",
      "32539  United-States   >50K  \n",
      "32545  United-States   >50K  \n",
      "32554  United-States   >50K  \n",
      "32557  United-States   >50K  \n",
      "32560  United-States   >50K  \n",
      "\n",
      "[7841 rows x 15 columns]\n"
     ]
    }
   ],
   "source": [
    "# Filter for individuals earning >50K\n",
    "high_earners = df[df['salary'] == '>50K']\n",
    "print(high_earners)"
   ]
  },
  {
   "cell_type": "code",
   "execution_count": 16,
   "id": "6699ae92-a0d6-40e6-a763-1a7f8c19ef9c",
   "metadata": {},
   "outputs": [
    {
     "name": "stdout",
     "output_type": "stream",
     "text": [
      "Mean age of >50K earners: 44.25 years\n",
      "Standard deviation of age: 10.52 years\n"
     ]
    }
   ],
   "source": [
    "# Calculate mean and standard deviation of age\n",
    "mean_age = high_earners['age'].mean()\n",
    "std_age = high_earners['age'].std()\n",
    "\n",
    "print(f\"Mean age of >50K earners: {mean_age:.2f} years\")\n",
    "print(f\"Standard deviation of age: {std_age:.2f} years\")\n"
   ]
  },
  {
   "cell_type": "code",
   "execution_count": 32,
   "id": "ca202957-670a-4fbf-be93-5783fbc28a91",
   "metadata": {},
   "outputs": [
    {
     "name": "stdout",
     "output_type": "stream",
     "text": [
      "       age         workclass  fnlwgt     education  education-num  \\\n",
      "0       39         State-gov   77516     Bachelors             13   \n",
      "1       50  Self-emp-not-inc   83311     Bachelors             13   \n",
      "2       38           Private  215646       HS-grad              9   \n",
      "3       53           Private  234721          11th              7   \n",
      "4       28           Private  338409     Bachelors             13   \n",
      "...    ...               ...     ...           ...            ...   \n",
      "32553   32           Private  116138       Masters             14   \n",
      "32555   22           Private  310152  Some-college             10   \n",
      "32556   27           Private  257302    Assoc-acdm             12   \n",
      "32558   58           Private  151910       HS-grad              9   \n",
      "32559   22           Private  201490       HS-grad              9   \n",
      "\n",
      "           marital-status         occupation   relationship  \\\n",
      "0           Never-married       Adm-clerical  Not-in-family   \n",
      "1      Married-civ-spouse    Exec-managerial        Husband   \n",
      "2                Divorced  Handlers-cleaners  Not-in-family   \n",
      "3      Married-civ-spouse  Handlers-cleaners        Husband   \n",
      "4      Married-civ-spouse     Prof-specialty           Wife   \n",
      "...                   ...                ...            ...   \n",
      "32553       Never-married       Tech-support  Not-in-family   \n",
      "32555       Never-married    Protective-serv  Not-in-family   \n",
      "32556  Married-civ-spouse       Tech-support           Wife   \n",
      "32558             Widowed       Adm-clerical      Unmarried   \n",
      "32559       Never-married       Adm-clerical      Own-child   \n",
      "\n",
      "                     race     sex  capital-gain  capital-loss  hours-per-week  \\\n",
      "0                   White    Male          2174             0              40   \n",
      "1                   White    Male             0             0              13   \n",
      "2                   White    Male             0             0              40   \n",
      "3                   Black    Male             0             0              40   \n",
      "4                   Black  Female             0             0              40   \n",
      "...                   ...     ...           ...           ...             ...   \n",
      "32553  Asian-Pac-Islander    Male             0             0              11   \n",
      "32555               White    Male             0             0              40   \n",
      "32556               White  Female             0             0              38   \n",
      "32558               White  Female             0             0              40   \n",
      "32559               White    Male             0             0              20   \n",
      "\n",
      "      native-country salary  \n",
      "0      United-States  <=50K  \n",
      "1      United-States  <=50K  \n",
      "2      United-States  <=50K  \n",
      "3      United-States  <=50K  \n",
      "4               Cuba  <=50K  \n",
      "...              ...    ...  \n",
      "32553         Taiwan  <=50K  \n",
      "32555  United-States  <=50K  \n",
      "32556  United-States  <=50K  \n",
      "32558  United-States  <=50K  \n",
      "32559  United-States  <=50K  \n",
      "\n",
      "[24720 rows x 15 columns]\n",
      "Mean age of <=50K earners: 36.78 years\n",
      "Standard deviation of age: 14.02 years\n"
     ]
    }
   ],
   "source": [
    "df['salary'] = df['salary'].str.strip()\n",
    "\n",
    "low_earners = df[df['salary'] == '<=50K']\n",
    "print(low_earners)\n",
    "mean_ages = low_earners['age'].mean()\n",
    "std_ages = low_earners['age'].std()\n",
    "\n",
    "print(f\"Mean age of <=50K earners: {mean_ages:.2f} years\")\n",
    "print(f\"Standard deviation of age: {std_ages:.2f} years\")\n"
   ]
  },
  {
   "cell_type": "code",
   "execution_count": 34,
   "id": "ef2b194d-d070-4b1e-8e89-f92dafe4c1db",
   "metadata": {},
   "outputs": [
    {
     "name": "stdout",
     "output_type": "stream",
     "text": [
      "✅ Yes, all people earning >50K have at least high school education (as defined).\n"
     ]
    }
   ],
   "source": [
    "#Is it true that people who earn more than 50K have at least high school education? (education – Bachelors, Prof-school, Assoc-acdm, Assoc-voc, Masters or Doctorate feature)\n",
    "\n",
    "high_edu_levels = [\n",
    "    'Bachelors',\n",
    "    'Prof-school',\n",
    "    'Assoc-acdm',\n",
    "    'Assoc-voc',\n",
    "    'Masters',\n",
    "    'Doctorate'\n",
    "]\n",
    "high_earners = df[df['salary'] == ' >50K']  # or '>50K' after stripping\n",
    "# Identify rows where education is NOT in the high_edu_levels\n",
    "non_high_edu = high_earners[~high_earners['education'].isin(high_edu_levels)]\n",
    "\n",
    "# Check if this dataframe is empty\n",
    "if non_high_edu.empty:\n",
    "    print(\"✅ Yes, all people earning >50K have at least high school education (as defined).\")\n",
    "else:\n",
    "    print(\"❌ No, there are people earning >50K without at least high school education.\")\n",
    "    print(\"Here are the counts by education level:\")\n",
    "    print(non_high_edu['education'].value_counts())\n"
   ]
  },
  {
   "cell_type": "code",
   "execution_count": 35,
   "id": "c1b2be75-efee-4d90-9668-b2f72076a760",
   "metadata": {},
   "outputs": [
    {
     "name": "stdout",
     "output_type": "stream",
     "text": [
      "The maximum age of men of Amer-Indian-Eskimo race is: 82 years\n"
     ]
    }
   ],
   "source": [
    "#Find the maximum age of men of Amer-Indian-Eskimo race\n",
    "\n",
    "# Filter for men of Amer-Indian-Eskimo race\n",
    "amer_indian_men = df[(df['sex'] == 'Male') & (df['race'] == 'Amer-Indian-Eskimo')]\n",
    "\n",
    "# Find the maximum age\n",
    "max_age = amer_indian_men['age'].max()\n",
    "\n",
    "print(f\"The maximum age of men of Amer-Indian-Eskimo race is: {max_age} years\")\n"
   ]
  },
  {
   "cell_type": "code",
   "execution_count": 37,
   "id": "dc192e53-2a11-447e-ae02-4b60151ca3d2",
   "metadata": {},
   "outputs": [
    {
     "name": "stdout",
     "output_type": "stream",
     "text": [
      "marital-status\n",
      "Married-civ-spouse       14976\n",
      "Never-married            10683\n",
      "Divorced                  4443\n",
      "Separated                 1025\n",
      "Widowed                    993\n",
      "Married-spouse-absent      418\n",
      "Married-AF-spouse           23\n",
      "Name: count, dtype: int64\n"
     ]
    }
   ],
   "source": [
    "#Among whom is the proportion of those who earn a lot (>50K) greater: married or single men (marital-status feature)? Consider as married those who have a marital-status starting with Married (Married-civ-spouse, Married-spouse-absent or Married-AF-spouse), the rest are considered bachelors.\n",
    "\n",
    "maritals = df['marital-status'].value_counts()\n",
    "print(maritals)"
   ]
  },
  {
   "cell_type": "code",
   "execution_count": 38,
   "id": "4f58e96b-30ae-4004-8ef1-c348f386ec61",
   "metadata": {},
   "outputs": [
    {
     "name": "stdout",
     "output_type": "stream",
     "text": [
      "Proportion of high earners among married men: 0.00%\n",
      "Proportion of high earners among single men: 0.00%\n",
      "✅ Single men have a higher proportion of high earners.\n"
     ]
    }
   ],
   "source": [
    "# Strip whitespace to avoid mismatches\n",
    "df['marital-status'] = df['marital-status'].str.strip()\n",
    "\n",
    "# Create a 'married' boolean column\n",
    "df['is_married'] = df['marital-status'].str.startswith('Married')\n",
    "men = df[df['sex'] == 'Male']\n",
    "married_men = men[men['is_married'] == True]\n",
    "married_high_earners = married_men[married_men['salary'] == ' >50K']\n",
    "\n",
    "married_prop = len(married_high_earners) / len(married_men) * 100\n",
    "single_men = men[men['is_married'] == False]\n",
    "single_high_earners = single_men[single_men['salary'] == ' >50K']\n",
    "\n",
    "single_prop = len(single_high_earners) / len(single_men) * 100\n",
    "print(f\"Proportion of high earners among married men: {married_prop:.2f}%\")\n",
    "print(f\"Proportion of high earners among single men: {single_prop:.2f}%\")\n",
    "\n",
    "if married_prop > single_prop:\n",
    "    print(\"✅ Married men have a higher proportion of high earners.\")\n",
    "else:\n",
    "    print(\"✅ Single men have a higher proportion of high earners.\")\n"
   ]
  },
  {
   "cell_type": "code",
   "execution_count": 39,
   "id": "4672749d-6deb-4708-b748-1b8f6f5bf168",
   "metadata": {},
   "outputs": [
    {
     "name": "stdout",
     "output_type": "stream",
     "text": [
      "Maximum hours per week: 99\n"
     ]
    }
   ],
   "source": [
    "max_hours = df['hours-per-week'].max()\n",
    "print(f\"Maximum hours per week: {max_hours}\")\n"
   ]
  },
  {
   "cell_type": "code",
   "execution_count": 40,
   "id": "3295f47b-785a-4c00-9928-2c4892d26042",
   "metadata": {},
   "outputs": [
    {
     "name": "stdout",
     "output_type": "stream",
     "text": [
      "Number of people working 99 hours/week: 85\n",
      "Percentage of >50K earners among them: 0.00%\n"
     ]
    }
   ],
   "source": [
    "max_hour_workers = df[df['hours-per-week'] == max_hours]\n",
    "num_max_hour_workers = len(max_hour_workers)\n",
    "\n",
    "print(f\"Number of people working {max_hours} hours/week: {num_max_hour_workers}\")\n",
    "high_earners_among_max = max_hour_workers[max_hour_workers['salary'] == ' >50K']\n",
    "num_high_earners_among_max = len(high_earners_among_max)\n",
    "\n",
    "# Calculate percentage\n",
    "percentage_high_earners = (num_high_earners_among_max / num_max_hour_workers) * 100\n",
    "\n",
    "print(f\"Percentage of >50K earners among them: {percentage_high_earners:.2f}%\")\n"
   ]
  },
  {
   "cell_type": "code",
   "execution_count": 41,
   "id": "892ce05f-f178-44af-9585-45e340cc4ea6",
   "metadata": {},
   "outputs": [
    {
     "name": "stdout",
     "output_type": "stream",
     "text": [
      "native-country  salary\n",
      "?               <=50K     40.16\n",
      "                >50K      45.55\n",
      "Cambodia        <=50K     41.42\n",
      "                >50K      40.00\n",
      "Canada          <=50K     37.91\n",
      "                          ...  \n",
      "United-States   >50K      45.51\n",
      "Vietnam         <=50K     37.19\n",
      "                >50K      39.20\n",
      "Yugoslavia      <=50K     41.60\n",
      "                >50K      49.50\n",
      "Name: hours-per-week, Length: 82, dtype: float64\n"
     ]
    }
   ],
   "source": [
    "#Count the average time of work (hours-per-week) for those who earn a little and a lot (salary) for each country (native-country). What will these be for Japan?\n",
    "\n",
    "df['salary'] = df['salary'].str.strip()\n",
    "df['native-country'] = df['native-country'].str.strip()\n",
    "avg_hours = df.groupby(['native-country', 'salary'])['hours-per-week'].mean().round(2)\n",
    "print(avg_hours)\n"
   ]
  },
  {
   "cell_type": "code",
   "execution_count": 42,
   "id": "ef81da65-4255-4e39-a9c3-6a8fe6d8f644",
   "metadata": {},
   "outputs": [
    {
     "name": "stdout",
     "output_type": "stream",
     "text": [
      "Average hours/week in Japan for <=50K earners: 41.0\n",
      "Average hours/week in Japan for >50K earners: 47.96\n"
     ]
    }
   ],
   "source": [
    "japan_low = avg_hours.loc[('Japan', '<=50K')]\n",
    "japan_high = avg_hours.loc[('Japan', '>50K')]\n",
    "\n",
    "print(f\"Average hours/week in Japan for <=50K earners: {japan_low}\")\n",
    "print(f\"Average hours/week in Japan for >50K earners: {japan_high}\")\n"
   ]
  },
  {
   "cell_type": "code",
   "execution_count": null,
   "id": "0b52e586-c763-4bd0-9a85-d2c8aae550b7",
   "metadata": {},
   "outputs": [],
   "source": []
  }
 ],
 "metadata": {
  "kernelspec": {
   "display_name": "Python 3 (ipykernel)",
   "language": "python",
   "name": "python3"
  },
  "language_info": {
   "codemirror_mode": {
    "name": "ipython",
    "version": 3
   },
   "file_extension": ".py",
   "mimetype": "text/x-python",
   "name": "python",
   "nbconvert_exporter": "python",
   "pygments_lexer": "ipython3",
   "version": "3.13.2"
  }
 },
 "nbformat": 4,
 "nbformat_minor": 5
}
